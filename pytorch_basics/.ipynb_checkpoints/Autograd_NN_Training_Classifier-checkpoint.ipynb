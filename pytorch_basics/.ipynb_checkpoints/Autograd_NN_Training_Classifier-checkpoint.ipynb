{
 "cells": [
  {
   "cell_type": "markdown",
   "metadata": {},
   "source": [
    "# This notebook covers the basics of AutoGrad, Neural Network and training a Classifier."
   ]
  },
  {
   "cell_type": "code",
   "execution_count": 7,
   "metadata": {
    "collapsed": true
   },
   "outputs": [],
   "source": [
    "import torch\n",
    "from torch.autograd import Variable"
   ]
  },
  {
   "cell_type": "code",
   "execution_count": 8,
   "metadata": {
    "collapsed": false
   },
   "outputs": [
    {
     "name": "stdout",
     "output_type": "stream",
     "text": [
      "Variable containing:\n",
      " 27\n",
      "[torch.FloatTensor of size 1]\n",
      "\n"
     ]
    }
   ],
   "source": [
    "# variable is the central part of the autograd package\n",
    "x = Variable(torch.ones(4,2), requires_grad=True)\n",
    "y = x + 2\n",
    "z = 3 * y * y\n",
    "out = torch.mean(z)\n",
    "print(out)"
   ]
  },
  {
   "cell_type": "code",
   "execution_count": 9,
   "metadata": {
    "collapsed": false
   },
   "outputs": [
    {
     "name": "stdout",
     "output_type": "stream",
     "text": [
      "Gradient of X -  Variable containing:\n",
      " 2.2500  2.2500\n",
      " 2.2500  2.2500\n",
      " 2.2500  2.2500\n",
      " 2.2500  2.2500\n",
      "[torch.FloatTensor of size 4x2]\n",
      "\n",
      "Gradient of Y -  None\n",
      "Gradient of Z -  None\n"
     ]
    }
   ],
   "source": [
    "out.backward()\n",
    "print(\"Gradient of X - \", x.grad)\n",
    "print(\"Gradient of Y - \", y.grad)\n",
    "print(\"Gradient of Z - \", z.grad)"
   ]
  },
  {
   "cell_type": "markdown",
   "metadata": {},
   "source": [
    "## Training a Neural network using pytorch"
   ]
  },
  {
   "cell_type": "code",
   "execution_count": null,
   "metadata": {
    "collapsed": true
   },
   "outputs": [],
   "source": []
  }
 ],
 "metadata": {
  "kernelspec": {
   "display_name": "Python 3",
   "language": "python",
   "name": "python3"
  },
  "language_info": {
   "codemirror_mode": {
    "name": "ipython",
    "version": 3
   },
   "file_extension": ".py",
   "mimetype": "text/x-python",
   "name": "python",
   "nbconvert_exporter": "python",
   "pygments_lexer": "ipython3",
   "version": "3.6.0"
  }
 },
 "nbformat": 4,
 "nbformat_minor": 2
}
