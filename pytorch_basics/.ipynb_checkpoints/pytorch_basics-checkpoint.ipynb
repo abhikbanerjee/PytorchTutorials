{
 "cells": [
  {
   "cell_type": "markdown",
   "metadata": {},
   "source": [
    "# This is a basic tutorial for Pytorch usages"
   ]
  },
  {
   "cell_type": "markdown",
   "metadata": {},
   "source": [
    "## Use of Pytorch tensors and operations"
   ]
  },
  {
   "cell_type": "code",
   "execution_count": 15,
   "metadata": {
    "collapsed": true
   },
   "outputs": [],
   "source": [
    "import torch\n",
    "import numpy as np\n",
    "import time"
   ]
  },
  {
   "cell_type": "code",
   "execution_count": 8,
   "metadata": {
    "collapsed": false
   },
   "outputs": [
    {
     "name": "stdout",
     "output_type": "stream",
     "text": [
      "X =  \n",
      "-8.3315e+11  4.5563e-41 -8.3315e+11  4.5563e-41\n",
      " 0.0000e+00  0.0000e+00  0.0000e+00  0.0000e+00\n",
      " 0.0000e+00  0.0000e+00  0.0000e+00  0.0000e+00\n",
      " 0.0000e+00  0.0000e+00  0.0000e+00  0.0000e+00\n",
      " 0.0000e+00  0.0000e+00  0.0000e+00  0.0000e+00\n",
      "[torch.FloatTensor of size 5x4]\n",
      "\n",
      "Y =  \n",
      " 0.4594  0.6857  0.3920  0.1299\n",
      " 0.2821  0.2636  0.4221  0.3629\n",
      " 0.7145  0.8348  0.8016  0.7808\n",
      " 0.9424  0.3136  0.0968  0.6521\n",
      " 0.6050  0.4730  0.4006  0.1807\n",
      "[torch.FloatTensor of size 5x4]\n",
      "\n",
      "Size of X and Y are - torch.Size([5, 4]) torch.Size([5, 4])\n"
     ]
    }
   ],
   "source": [
    "x = torch.Tensor(5,4)\n",
    "print(\"X = \",x)\n",
    "y = torch.rand(5,4)\n",
    "print(\"Y = \",y)\n",
    "print(\"Size of X and Y are -\", x.size(), y.size())"
   ]
  },
  {
   "cell_type": "code",
   "execution_count": 9,
   "metadata": {
    "collapsed": false
   },
   "outputs": [
    {
     "name": "stdout",
     "output_type": "stream",
     "text": [
      "\n",
      "-8.3315e+11  6.8566e-01 -8.3315e+11  1.2987e-01\n",
      " 2.8212e-01  2.6356e-01  4.2214e-01  3.6285e-01\n",
      " 7.1448e-01  8.3480e-01  8.0159e-01  7.8077e-01\n",
      " 9.4238e-01  3.1356e-01  9.6817e-02  6.5215e-01\n",
      " 6.0497e-01  4.7303e-01  4.0062e-01  1.8068e-01\n",
      "[torch.FloatTensor of size 5x4]\n",
      "\n",
      "Result Size -  torch.Size([5, 4])\n"
     ]
    }
   ],
   "source": [
    "# Add operation on 2 Tensors in pytorch\n",
    "result = torch.Tensor(5,4)\n",
    "print(torch.add(x,y, out=result))\n",
    "print(\"Result Size - \", result.size())"
   ]
  },
  {
   "cell_type": "markdown",
   "metadata": {
    "collapsed": true
   },
   "source": [
    "### Convert numpy arrays to tensors and back"
   ]
  },
  {
   "cell_type": "code",
   "execution_count": 14,
   "metadata": {
    "collapsed": false
   },
   "outputs": [
    {
     "name": "stdout",
     "output_type": "stream",
     "text": [
      "\n",
      " 1\n",
      " 1\n",
      " 1\n",
      " 1\n",
      " 1\n",
      "[torch.DoubleTensor of size 5]\n",
      "\n",
      "a =  [ 2.  2.  2.  2.  2.]\n",
      "b =  \n",
      " 2\n",
      " 2\n",
      " 2\n",
      " 2\n",
      " 2\n",
      "[torch.DoubleTensor of size 5]\n",
      "\n",
      "[ 2.  2.  2.  2.  2.]\n",
      "<class 'numpy.ndarray'>\n"
     ]
    }
   ],
   "source": [
    "a = np.ones(5)\n",
    "# convert a numpy n-d array to a pytorch tensor\n",
    "b = torch.from_numpy(a)\n",
    "print(b)\n",
    "np.add(a,1, out=a)\n",
    "print(\"a = \",a)\n",
    "print(\"b = \",b)\n",
    "\n",
    "# convert a pytorch tensor to a numpy n-d array\n",
    "c = b.numpy()\n",
    "print(c)\n",
    "print(type(c))"
   ]
  },
  {
   "cell_type": "markdown",
   "metadata": {
    "collapsed": true
   },
   "source": [
    "### Do some benchmarking tests by running a addition between CPU and GPU"
   ]
  },
  {
   "cell_type": "code",
   "execution_count": 21,
   "metadata": {
    "collapsed": false
   },
   "outputs": [
    {
     "name": "stdout",
     "output_type": "stream",
     "text": [
      "Without GPU in secs 8.408784866333008\n",
      "With GPU in secs 0.3790855407714844\n"
     ]
    }
   ],
   "source": [
    "a = torch.rand(4000,5000)\n",
    "b = torch.rand(4000,5000)\n",
    "\n",
    "tic = time.time()\n",
    "c = torch.add(a,b)\n",
    "toc = time.time()\n",
    "\n",
    "print(\"Without GPU in secs\", (toc - tic)*1000)\n",
    "\n",
    "# With GPU usage\n",
    "\n",
    "if torch.cuda.is_available():\n",
    "    a = a.cuda()\n",
    "    b = b.cuda()\n",
    "    tic = time.time()\n",
    "    c = torch.add(a,b)\n",
    "    toc = time.time()\n",
    "\n",
    "print(\"With GPU in secs\", (toc - tic)*1000)"
   ]
  },
  {
   "cell_type": "code",
   "execution_count": null,
   "metadata": {
    "collapsed": true
   },
   "outputs": [],
   "source": []
  }
 ],
 "metadata": {
  "kernelspec": {
   "display_name": "Python 3",
   "language": "python",
   "name": "python3"
  },
  "language_info": {
   "codemirror_mode": {
    "name": "ipython",
    "version": 3
   },
   "file_extension": ".py",
   "mimetype": "text/x-python",
   "name": "python",
   "nbconvert_exporter": "python",
   "pygments_lexer": "ipython3",
   "version": "3.6.0"
  }
 },
 "nbformat": 4,
 "nbformat_minor": 2
}
