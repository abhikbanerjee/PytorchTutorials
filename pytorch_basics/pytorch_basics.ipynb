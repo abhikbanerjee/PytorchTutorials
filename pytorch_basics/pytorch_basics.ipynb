{
 "cells": [
  {
   "cell_type": "markdown",
   "metadata": {},
   "source": [
    "# This is a basic tutorial for Pytorch usages"
   ]
  },
  {
   "cell_type": "markdown",
   "metadata": {},
   "source": [
    "## Use of Pytorch tensors and operations"
   ]
  },
  {
   "cell_type": "code",
   "execution_count": 1,
   "metadata": {
    "collapsed": true
   },
   "outputs": [],
   "source": [
    "import torch"
   ]
  },
  {
   "cell_type": "code",
   "execution_count": 13,
   "metadata": {
    "collapsed": false
   },
   "outputs": [
    {
     "name": "stdout",
     "output_type": "stream",
     "text": [
      "X =  \n",
      " 3.8608e+21  4.5748e-41  6.3454e-38  0.0000e+00\n",
      "        nan  0.0000e+00  6.7508e-07  2.8698e-09\n",
      " 1.6695e-07  1.6696e-07  1.0984e-05  4.6065e-05\n",
      " 1.6417e-07  1.0372e-08  0.0000e+00  0.0000e+00\n",
      " 6.4453e-38  0.0000e+00  3.8608e+21  4.5748e-41\n",
      "[torch.FloatTensor of size 5x4]\n",
      "\n",
      "Y =  \n",
      " 0.9437  0.2432  0.8864  0.9814\n",
      " 0.6834  0.9791  0.7272  0.3388\n",
      " 0.5522  0.2982  0.2516  0.2914\n",
      " 0.5023  0.4233  0.0556  0.4877\n",
      " 0.9596  0.1856  0.4098  0.3919\n",
      "[torch.FloatTensor of size 5x4]\n",
      "\n",
      "Size of X and Y are - torch.Size([5, 4]) torch.Size([5, 4])\n"
     ]
    }
   ],
   "source": [
    "x = torch.Tensor(5,4)\n",
    "print(\"X = \",x)\n",
    "y = torch.rand(5,4)\n",
    "print(\"Y = \",y)\n",
    "print(\"Size of X and Y are -\", x.size(), y.size())"
   ]
  },
  {
   "cell_type": "code",
   "execution_count": 14,
   "metadata": {
    "collapsed": false
   },
   "outputs": [
    {
     "name": "stdout",
     "output_type": "stream",
     "text": [
      "\n",
      " 3.8608e+21  2.4325e-01  8.8643e-01  9.8145e-01\n",
      "        nan  9.7908e-01  7.2721e-01  3.3882e-01\n",
      " 5.5224e-01  2.9819e-01  2.5165e-01  2.9145e-01\n",
      " 5.0226e-01  4.2335e-01  5.5557e-02  4.8771e-01\n",
      " 9.5955e-01  1.8559e-01  3.8608e+21  3.9188e-01\n",
      "[torch.FloatTensor of size 5x4]\n",
      "\n",
      "Result Size -  torch.Size([5, 4])\n"
     ]
    }
   ],
   "source": [
    "# Add operation on 2 Tensors in pytorch\n",
    "result = torch.Tensor(5,4)\n",
    "print(torch.add(x,y, out=result))\n",
    "print(\"Result Size - \", result.size())"
   ]
  },
  {
   "cell_type": "code",
   "execution_count": null,
   "metadata": {
    "collapsed": true
   },
   "outputs": [],
   "source": []
  }
 ],
 "metadata": {
  "kernelspec": {
   "display_name": "Python 3",
   "language": "python",
   "name": "python3"
  },
  "language_info": {
   "codemirror_mode": {
    "name": "ipython",
    "version": 3
   },
   "file_extension": ".py",
   "mimetype": "text/x-python",
   "name": "python",
   "nbconvert_exporter": "python",
   "pygments_lexer": "ipython3",
   "version": "3.6.0"
  }
 },
 "nbformat": 4,
 "nbformat_minor": 2
}
